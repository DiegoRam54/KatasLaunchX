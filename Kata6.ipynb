{
 "cells": [
  {
   "cell_type": "markdown",
   "metadata": {},
   "source": [
    "# Kata 6"
   ]
  },
  {
   "cell_type": "code",
   "execution_count": null,
   "metadata": {},
   "outputs": [],
   "source": [
    "planets=['Mercurio', 'Venus', 'Tierra', 'Marte', 'Júpiter', 'Saturno', 'Urano', 'Neptuno']\n",
    "planets.append('Plutón')\n",
    "print(\"Número de planetas: \"+str(len(planets)))\n",
    "print(\"El último planeta de la lista es: \"+planets[-1])"
   ]
  },
  {
   "cell_type": "code",
   "execution_count": null,
   "metadata": {},
   "outputs": [],
   "source": [
    "planets=['Mercurio', 'Venus', 'Tierra', 'Marte', 'Júpiter', 'Saturno', 'Urano', 'Neptuno']\n",
    "planet=input(\"Ingrese un planeta (solo la primer letra del nombre debe ser mayúscula): \")\n",
    "positionPlanet=planets.index(planet)\n",
    "print(\"Planetas más cercanos al Sol hasta su planeta: \"+str(planets[0:positionPlanet]))\n",
    "print(\"Planetas más lejanos al Sol desde su planeta: \"+str(planets[positionPlanet+1:]))"
   ]
  }
 ],
 "metadata": {
  "language_info": {
   "name": "python"
  },
  "orig_nbformat": 4
 },
 "nbformat": 4,
 "nbformat_minor": 2
}
