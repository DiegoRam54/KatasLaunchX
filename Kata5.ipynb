{
 "cells": [
  {
   "cell_type": "markdown",
   "metadata": {},
   "source": [
    "# Kata 5"
   ]
  },
  {
   "cell_type": "code",
   "execution_count": null,
   "metadata": {},
   "outputs": [],
   "source": [
    "earth=149597870\n",
    "jupyter=778547200\n",
    "distanceKm=abs(earth-jupyter)\n",
    "distanceMillas=ceil(distanceKm*.621)\n",
    "print(distanceKm)\n",
    "print(distanceMillas)"
   ]
  },
  {
   "cell_type": "code",
   "execution_count": null,
   "metadata": {},
   "outputs": [],
   "source": [
    "namePlanet1=input(\"Ingrese el nombre de su primer planeta: \")\n",
    "namePlanet2=input(\"Ingrese el nombre de su segundo planeta: \")\n",
    "distancePlanet1=input(\"Ingrese a qué distancia se encuentra {0} del Sol: \").format(namePlanet1)\n",
    "distancePlanet2=input(\"Ingrese a qué distancia se encuentra {0} del Sol: \").format(namePlanet2)\n",
    "distanceIntP1=int(distancePlanet1)\n",
    "distanceIntP2=int(distancePlanet2)\n",
    "distanceBp1p2KM=abs(distanceIntP1-distanceIntP2)\n",
    "distanceBp1p2M=distanceBp1p2KM*.621\n",
    "facts=\"Datos insertados:\\n  -Planeta 1: {0}\\n  -Planeta 2: {1}\\nDistancia entre {0} y {1}: {2} km\\nDistancia en millas: {3}\".format(namePlanet1, namePlanet2, distanceBp1p2KM, distanceBp1p2M)\n",
    "print(facts)"
   ]
  }
 ],
 "metadata": {
  "language_info": {
   "name": "python"
  },
  "orig_nbformat": 4
 },
 "nbformat": 4,
 "nbformat_minor": 2
}
