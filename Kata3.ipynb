{
 "cells": [
  {
   "cell_type": "markdown",
   "metadata": {},
   "source": [
    "# Kata 3"
   ]
  },
  {
   "cell_type": "code",
   "execution_count": null,
   "metadata": {},
   "outputs": [],
   "source": [
    "velocidadAsteroide= 49\n",
    "if velocidadAsteroide>25:\n",
    "    print(\"¡Asteroide en camino!\")"
   ]
  },
  {
   "cell_type": "code",
   "execution_count": null,
   "metadata": {},
   "outputs": [],
   "source": [
    "velocidadAsteroide2= 19\n",
    "if velocidadAsteroide >=20:\n",
    "    print(\"Se vería un rayo de luz, se puede ver desde la Tierra\")\n",
    "else:\n",
    "    print(\"No se vería rayo de luz\")"
   ]
  },
  {
   "cell_type": "code",
   "execution_count": null,
   "metadata": {},
   "outputs": [],
   "source": [
    "tamañoAsteroide=10\n",
    "velocidadAsteroide=21\n",
    "if tamañoAsteroide>25 and tamañoAsteroide<100 and velocidadAsteroide>=20 and velocidadAsteroide>25:\n",
    "    print(\"Se podría ver un rayo de luz por el asteroide\")\n",
    "    print(\"¡Advertencia, asteroide catastrófico\")\n",
    "elif tamañoAsteroide>25 and tamañoAsteroide<100 and velocidadAsteroide>=20 and velocidadAsteroide<=25:\n",
    "    print(\"Se podría ver un rayo de luz por el asteroide, ¡podría causar mucho daño!\")\n",
    "elif tamañoAsteroide>25 and tamañoAsteroide<100 and velocidadAsteroide<20:\n",
    "    print(\"El asteroide podría causar mucho daño\")\n",
    "elif tamañoAsteroide<=25 and velocidadAsteroide>=20 and velocidadAsteroide>25:\n",
    "    print(\"Se vería un rayo de luz por el asteroide\")\n",
    "    print(\"¡Advertencia, asteroide a velocidad peligrosa! Pero puede desintegrarse en la atmósfera\")\n",
    "elif tamañoAsteroide<=25 and velocidadAsteroide>=20 and velocidadAsteroide<=25:\n",
    "    print(\"Se vería un rayo de luz por el asteroide\")\n",
    "    print(\"El asteroide puede desintegrarse en la atmósfera\")\n",
    "elif tamañoAsteroide<=25 and velocidadAsteroide<20:\n",
    "    print(\"El asteroide se desintegrará en la atmósfera\")"
   ]
  }
 ],
 "metadata": {
  "language_info": {
   "name": "python"
  },
  "orig_nbformat": 4
 },
 "nbformat": 4,
 "nbformat_minor": 2
}
