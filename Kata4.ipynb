{
 "cells": [
  {
   "cell_type": "markdown",
   "metadata": {},
   "source": [
    "# Kata 4"
   ]
  },
  {
   "cell_type": "code",
   "execution_count": null,
   "metadata": {},
   "outputs": [],
   "source": [
    "text = \"\"\"Interesting facts about the Moon. The Moon is Earth's only satellite. There are several interesting facts about the Moon and how it affects life here on Earth. \n",
    "On average, the Moon moves 4cm away from the Earth every year. This yearly drift is not significant enough to cause immediate effects on Earth. The highest daylight temperature of the Moon is 127 C.\"\"\"\n",
    "parts= text.split('.');\n",
    "print(parts)\n",
    "print(\"Average: \"+str(text.find(\"average\")))\n",
    "print(\"Temperature: \"+str(text.find(\"temperature\")))\n",
    "print(\"Distance: \"+str(text.find(\"distance\")))\n",
    "#no estoy muy seguro de mi ciclo, no logro comprenderlo del todo\n",
    "for x in parts:\n",
    "    if x.find(\"average\"):\n",
    "        print(x)\n",
    "text.replace('C', 'Celsius')"
   ]
  },
  {
   "cell_type": "code",
   "execution_count": null,
   "metadata": {},
   "outputs": [],
   "source": [
    "name = \"Moon\"\n",
    "gravity = 0.00162 # in kms\n",
    "planet = \"Earth\"\n",
    "gravity2= gravity*1000\n",
    "\n",
    "heading=\"Gravity of places\"\n",
    "facts=\"  {0}\\n---------------------\\n Name: {1}\\n Gravity on {2}: {3} m/s2\\n---------------------\".format(heading.title(), name, planet, gravity2)\n",
    "print(facts)\n",
    "\n",
    "name = \"Ganímedes\"\n",
    "gravity = 0.00143 # in kms\n",
    "planet = \"Marte\"\n",
    "gravity2= gravity*1000\n",
    "\n",
    "heading=\"Gravity of places\"\n",
    "facts=\"  {0}\\n---------------------\\n Name: {1}\\n Gravity on {2}: {3} m/s2\\n---------------------\".format(heading.title(), name, planet, gravity2)\n",
    "print(facts)"
   ]
  }
 ],
 "metadata": {
  "language_info": {
   "name": "python"
  },
  "orig_nbformat": 4
 },
 "nbformat": 4,
 "nbformat_minor": 2
}
