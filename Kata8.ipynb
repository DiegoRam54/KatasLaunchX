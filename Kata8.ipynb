{
 "cells": [
  {
   "cell_type": "markdown",
   "metadata": {},
   "source": [
    "# Kata 8"
   ]
  },
  {
   "cell_type": "code",
   "execution_count": null,
   "metadata": {},
   "outputs": [],
   "source": [
    "planet={\n",
    "    'name': 'Marte',\n",
    "    'moons': 2\n",
    "}\n",
    "print(\"Planeta: \"+planet.get('name'))\n",
    "print(\"Lunas: \"+str(planet.get('moons')))\n",
    "\n",
    "planet['circunferencia (km)'] = {\n",
    "    'polar': 6752,\n",
    "    'equatorial': 6792\n",
    "}\n",
    "print(planet['name']+\" polar circunferencia: \"+str(planet['circunferencia (km)']['polar']))"
   ]
  },
  {
   "cell_type": "code",
   "execution_count": null,
   "metadata": {},
   "outputs": [],
   "source": [
    "planet_moons = {\n",
    "    'mercury': 0,\n",
    "    'venus': 0,\n",
    "    'earth': 1,\n",
    "    'mars': 2,\n",
    "    'jupiter': 79,\n",
    "    'saturn': 82,\n",
    "    'uranus': 27,\n",
    "    'neptune': 14,\n",
    "    'pluto': 5,\n",
    "    'haumea': 2,\n",
    "    'makemake': 1,\n",
    "    'eris': 1\n",
    "}\n",
    "totalMoons=0\n",
    "planets=len(planet_moons)\n",
    "for moons in planet_moons.values():\n",
    "    totalMoons=totalMoons+ moons\n",
    "print(f'Hay un total de {totalMoons} lunas en el sistema solar')\n",
    "print(\"El promedio de lunas por planeta es de: \"+str(totalMoons//planets))"
   ]
  }
 ],
 "metadata": {
  "language_info": {
   "name": "python"
  },
  "orig_nbformat": 4
 },
 "nbformat": 4,
 "nbformat_minor": 2
}
